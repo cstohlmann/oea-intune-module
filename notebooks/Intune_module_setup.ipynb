{
  "cells": [
    {
      "cell_type": "markdown",
      "source": [
        "# Intune Module Setup Example Notebook\r\n",
        "\r\n",
        "This notebook creates 1 table (devices) into a new Spark database called s2p_intune_module. "
      ],
      "metadata": {
        "nteract": {
          "transient": {
            "deleting": false
          }
        }
      }
    },
    {
      "cell_type": "markdown",
      "source": [
        "### Provision storage accounts\r\n",
        "\r\n",
        "The storage account variable has to be changed to the name of the storage account associated with your Azure resource group."
      ],
      "metadata": {
        "nteract": {
          "transient": {
            "deleting": false
          }
        }
      }
    },
    {
      "cell_type": "code",
      "source": [
        "from pyspark.sql.types import StructType, StructField, StringType, IntegerType, DoubleType, ArrayType, TimestampType, DateType\r\n",
        "from pyspark.sql.functions import *\r\n",
        "from pyspark.sql.window import Window\r\n",
        "\r\n",
        "\r\n",
        "# data lake and container information\r\n",
        "storage_account = 'stoeadaihackathon'\r\n",
        "use_test_env = False\r\n",
        "\r\n",
        "if use_test_env:\r\n",
        "    stage1np = 'abfss://test-env@' + storage_account + '.dfs.core.windows.net/stage1np'\r\n",
        "    stage2np = 'abfss://test-env@' + storage_account + '.dfs.core.windows.net/stage2np'\r\n",
        "    stage2p = 'abfss://test-env@' + storage_account + '.dfs.core.windows.net/stage2p'\r\n",
        "else:\r\n",
        "    stage1np = 'abfss://stage1np@' + storage_account + '.dfs.core.windows.net'\r\n",
        "    stage2np = 'abfss://stage2np@' + storage_account + '.dfs.core.windows.net'\r\n",
        "    stage2p = 'abfss://stage2p@' + storage_account + '.dfs.core.windows.net'"
      ],
      "outputs": [
        {
          "output_type": "display_data",
          "data": {
            "application/vnd.livy.statement-meta+json": {
              "spark_pool": "medium1",
              "session_id": 11,
              "statement_id": 2,
              "state": "finished",
              "livy_statement_state": "available",
              "queued_time": "2021-10-20T16:08:52.0425647Z",
              "session_start_time": null,
              "execution_start_time": "2021-10-20T16:08:52.1599871Z",
              "execution_finish_time": "2021-10-20T16:08:52.3046602Z"
            },
            "text/plain": "StatementMeta(medium1, 11, 2, Finished, Available)"
          },
          "metadata": {}
        }
      ],
      "execution_count": 12,
      "metadata": {
        "jupyter": {
          "source_hidden": false,
          "outputs_hidden": false
        },
        "nteract": {
          "transient": {
            "deleting": false
          }
        }
      }
    },
    {
      "cell_type": "markdown",
      "source": [
        "### Load Raw Data from Lake\r\n",
        "To ensure that that the right tables are loaded, confirm that the file paths match your data lake storage containers. \r\n",
        "\r\n",
        "The top code-block defines the schema of how the devices CSV file in stage 1 is stored."
      ],
      "metadata": {
        "nteract": {
          "transient": {
            "deleting": false
          }
        }
      }
    },
    {
      "cell_type": "code",
      "source": [
        "# load needed device table from the CSV in the data lake storage\r\n",
        "dfIntuneDevices = spark.read.format('csv').load(f'{stage1np}/intune_module/devices/*.csv', header='true')"
      ],
      "outputs": [
        {
          "output_type": "display_data",
          "data": {
            "application/vnd.livy.statement-meta+json": {
              "spark_pool": "medium1",
              "session_id": 11,
              "statement_id": 3,
              "state": "finished",
              "livy_statement_state": "available",
              "queued_time": "2021-10-20T16:08:54.5757855Z",
              "session_start_time": null,
              "execution_start_time": "2021-10-20T16:08:54.6688443Z",
              "execution_finish_time": "2021-10-20T16:09:07.3000511Z"
            },
            "text/plain": "StatementMeta(medium1, 11, 3, Finished, Available)"
          },
          "metadata": {}
        }
      ],
      "execution_count": 13,
      "metadata": {
        "jupyter": {
          "source_hidden": false,
          "outputs_hidden": false
        },
        "nteract": {
          "transient": {
            "deleting": false
          }
        }
      }
    },
    {
      "cell_type": "markdown",
      "source": [
        "## 1. Devices table\r\n",
        "Contains all devices (from students and teachers) at a school-system level\r\n",
        "\r\n",
        "** Databases and tables used: **\r\n",
        "\r\n",
        " - None\r\n",
        "\r\n",
        "**CSV files used:**\r\n",
        "\r\n",
        "- the file from: intune_module/devices/*.csv\r\n",
        "\r\n",
        "**Database and table created:**\r\n",
        "\r\n",
        "1. Spark DB: s2p_intune_module\r\n",
        "- Table: devices"
      ],
      "metadata": {
        "nteract": {
          "transient": {
            "deleting": false
          }
        }
      }
    },
    {
      "cell_type": "code",
      "source": [
        "display(dfIntuneDevices.limit(10))"
      ],
      "outputs": [
        {
          "output_type": "display_data",
          "data": {
            "application/vnd.livy.statement-meta+json": {
              "spark_pool": "medium1",
              "session_id": 11,
              "statement_id": 4,
              "state": "finished",
              "livy_statement_state": "available",
              "queued_time": "2021-10-20T16:08:59.3449523Z",
              "session_start_time": null,
              "execution_start_time": "2021-10-20T16:09:07.3879778Z",
              "execution_finish_time": "2021-10-20T16:09:09.2318382Z"
            },
            "text/plain": "StatementMeta(medium1, 11, 4, Finished, Available)"
          },
          "metadata": {}
        },
        {
          "output_type": "display_data",
          "data": {
            "application/vnd.synapse.widget-view+json": {
              "widget_id": "13e1c7fd-9eea-4fd1-9447-54bf8f1853dc",
              "widget_type": "Synapse.DataFrame"
            },
            "text/plain": "SynapseWidget(Synapse.DataFrame, 13e1c7fd-9eea-4fd1-9447-54bf8f1853dc)"
          },
          "metadata": {}
        }
      ],
      "execution_count": 14,
      "metadata": {
        "jupyter": {
          "source_hidden": false,
          "outputs_hidden": false
        },
        "nteract": {
          "transient": {
            "deleting": false
          }
        },
        "collapsed": false
      }
    },
    {
      "cell_type": "markdown",
      "source": [
        "### Add an additional column \"accessOutsideOfSchool\"\r\n",
        "\r\n",
        "This \"accessOutsideOfSchool\" column uses the \"lastCheckIn\" column information to determine if a specific student's device has access outside of school, based on the conditions:\r\n",
        "\r\n",
        " - If the last check in was on a weekend (i.e. Saturday or Sunday), then \"accessOutsideOfSchool\" is true.\r\n",
        " - If the last check in was before 9 AM (9:00) on a weekday, then \"accessOutsideOfSchool\" is true.\r\n",
        " - If the last check in was after 4 PM (16:00) on a weekday, then \"accessOutsideOfSchool\" is true. \r\n",
        "\r\n",
        "Otherwise, \"accessOutsideOfSchool\" is defaulted to false. \r\n",
        "\r\n",
        "Also this code creates a \"lastCheckInDate\" date-type column, used for the date filter in the PowerBI dashboard."
      ],
      "metadata": {
        "nteract": {
          "transient": {
            "deleting": false
          }
        }
      }
    },
    {
      "cell_type": "code",
      "source": [
        "dfIntuneDevices = dfIntuneDevices.withColumn('lastCheckInTime', split(col('lastCheckIn'), ' ').getItem(1))\r\n",
        "dfIntuneDevices = dfIntuneDevices.withColumn('lastCheckInDate', split(col('lastCheckIn'), ' ').getItem(0))\r\n",
        "dfIntuneDevices = dfIntuneDevices.withColumn('lastCheckInHourOfDay', split(col('lastCheckInTime'), ':').getItem(0))\r\n",
        "dfIntuneDevices = dfIntuneDevices.drop('lastCheckInTime')\r\n",
        "\r\n",
        "dfIntuneDevices = dfIntuneDevices.withColumn('lastCheckInDate', col('lastCheckInDate').cast(\"date\"))\r\n",
        "dfIntuneDevices = dfIntuneDevices.withColumn('lastCheckInDayOfWeek', date_format(col('lastCheckIn'), \"E\"))\r\n",
        "\r\n",
        "dfIntuneDevices = dfIntuneDevices.withColumn('AccessOutsideOfSchool', when(col('lastCheckInDayOfWeek') == \"Sat\", \"true\").otherwise(when(col('lastCheckInDayOfWeek') == \"Sun\", \"true\").otherwise(when(col('lastCheckInHourOfDay') >= 16, \"true\").otherwise(when(col('lastCheckInHourOfDay') < 9, \"true\").otherwise(\"false\")))))\r\n",
        "# Can comment out this drop if you don't want to drop these two columns\r\n",
        "dfIntuneDevices = dfIntuneDevices.drop('lastCheckInDayOfWeek').drop('lastCheckInHourOfDay')\r\n",
        "\r\n",
        "display(dfIntuneDevices.limit(10))"
      ],
      "outputs": [
        {
          "output_type": "display_data",
          "data": {
            "application/vnd.livy.statement-meta+json": {
              "spark_pool": "medium1",
              "session_id": 11,
              "statement_id": 8,
              "state": "finished",
              "livy_statement_state": "available",
              "queued_time": "2021-10-20T16:11:18.3130941Z",
              "session_start_time": null,
              "execution_start_time": "2021-10-20T16:11:18.4037253Z",
              "execution_finish_time": "2021-10-20T16:11:27.0190094Z"
            },
            "text/plain": "StatementMeta(medium1, 11, 8, Finished, Available)"
          },
          "metadata": {}
        },
        {
          "output_type": "display_data",
          "data": {
            "application/vnd.synapse.widget-view+json": {
              "widget_id": "87cfeedb-db14-4da8-9215-709d4560fc0d",
              "widget_type": "Synapse.DataFrame"
            },
            "text/plain": "SynapseWidget(Synapse.DataFrame, 87cfeedb-db14-4da8-9215-709d4560fc0d)"
          },
          "metadata": {}
        }
      ],
      "execution_count": 18,
      "metadata": {
        "jupyter": {
          "source_hidden": false,
          "outputs_hidden": false
        },
        "nteract": {
          "transient": {
            "deleting": false
          }
        },
        "collapsed": false
      }
    },
    {
      "cell_type": "markdown",
      "source": [
        "## Write Data Back to Lake\r\n",
        "\r\n",
        "### Writing to Stage 2np"
      ],
      "metadata": {
        "nteract": {
          "transient": {
            "deleting": false
          }
        }
      }
    },
    {
      "cell_type": "code",
      "source": [
        "# write back to the lake in stage 2 ds2_main directory\r\n",
        "dfIntuneDevices.coalesce(1).write.format('parquet').mode('overwrite').save(stage2np + '/intune_module/devices')"
      ],
      "outputs": [
        {
          "output_type": "display_data",
          "data": {
            "application/vnd.livy.statement-meta+json": {
              "spark_pool": "medium1",
              "session_id": 11,
              "statement_id": 10,
              "state": "finished",
              "livy_statement_state": "available",
              "queued_time": "2021-10-20T16:11:45.3544202Z",
              "session_start_time": null,
              "execution_start_time": "2021-10-20T16:11:45.4478311Z",
              "execution_finish_time": "2021-10-20T16:11:48.1640061Z"
            },
            "text/plain": "StatementMeta(medium1, 11, 10, Finished, Available)"
          },
          "metadata": {}
        }
      ],
      "execution_count": 20,
      "metadata": {
        "jupyter": {
          "source_hidden": false,
          "outputs_hidden": false
        },
        "nteract": {
          "transient": {
            "deleting": false
          }
        }
      }
    },
    {
      "cell_type": "markdown",
      "source": [
        "### Writing to Stage 2p\r\n",
        "Pseudonymizing the primaryUserUPNs (userPrincipalNames) data from the devices CSV."
      ],
      "metadata": {
        "nteract": {
          "transient": {
            "deleting": false
          }
        }
      }
    },
    {
      "cell_type": "code",
      "source": [
        "%run /OEA_py"
      ],
      "outputs": [
        {
          "output_type": "display_data",
          "data": {
            "application/vnd.livy.statement-meta+json": {
              "spark_pool": null,
              "session_id": 11,
              "statement_id": -1,
              "state": "finished",
              "livy_statement_state": "available",
              "queued_time": "2021-10-20T16:12:12.5556653Z",
              "session_start_time": null,
              "execution_start_time": "2021-10-20T16:12:14.700453Z",
              "execution_finish_time": "2021-10-20T16:12:14.700637Z"
            },
            "text/plain": "StatementMeta(, 11, -1, Finished, Available)"
          },
          "metadata": {}
        }
      ],
      "execution_count": 21,
      "metadata": {
        "jupyter": {
          "source_hidden": false,
          "outputs_hidden": false
        },
        "nteract": {
          "transient": {
            "deleting": false
          }
        }
      }
    },
    {
      "cell_type": "code",
      "source": [
        "oea = OEA()"
      ],
      "outputs": [
        {
          "output_type": "display_data",
          "data": {
            "application/vnd.livy.statement-meta+json": {
              "spark_pool": "medium1",
              "session_id": 11,
              "statement_id": 12,
              "state": "finished",
              "livy_statement_state": "available",
              "queued_time": "2021-10-20T16:12:13.6157868Z",
              "session_start_time": null,
              "execution_start_time": "2021-10-20T16:12:14.785397Z",
              "execution_finish_time": "2021-10-20T16:12:14.9476896Z"
            },
            "text/plain": "StatementMeta(medium1, 11, 12, Finished, Available)"
          },
          "metadata": {}
        },
        {
          "output_type": "stream",
          "name": "stdout",
          "text": [
            "2021-10-20 16:12:14,790 - OEA - DEBUG - OEA initialized.\nOEA initialized."
          ]
        }
      ],
      "execution_count": 22,
      "metadata": {
        "jupyter": {
          "source_hidden": false,
          "outputs_hidden": false
        },
        "nteract": {
          "transient": {
            "deleting": false
          }
        }
      }
    },
    {
      "cell_type": "code",
      "source": [
        "devicesSchema = [['DeviceName', 'string', 'no-op'],\r\n",
        "                            ['ManagedBy', 'string', 'no-op'],\r\n",
        "                            ['Ownership', 'string', 'no-op'],\r\n",
        "                            ['Compliance','string','no-op'],\r\n",
        "                            ['OS', 'string', 'no-op'],\r\n",
        "                            ['OSVersion', 'string', 'no-op'],\r\n",
        "                            ['LastCheckIn', 'timestamp', 'no-op'],\r\n",
        "                            ['PrimaryUserUPN', 'string', 'hash'],\r\n",
        "                            ['DeviceID', 'string', 'no-op'],\r\n",
        "                            ['LastCheckInDate', 'date', 'no-op'],\r\n",
        "                            ['AccessOutsideOfSchool', 'boolean', 'no-op']]\r\n",
        "\r\n",
        "df_pseudo, df_lookup = oea.pseudonymize(dfIntuneDevices, devicesSchema)\r\n",
        "\r\n",
        "df_pseudo.coalesce(1).write.format('parquet').mode('overwrite').save(stage2p + '/intune_module/devices')"
      ],
      "outputs": [
        {
          "output_type": "display_data",
          "data": {
            "application/vnd.livy.statement-meta+json": {
              "spark_pool": "medium1",
              "session_id": 11,
              "statement_id": 13,
              "state": "finished",
              "livy_statement_state": "available",
              "queued_time": "2021-10-20T16:12:25.9017104Z",
              "session_start_time": null,
              "execution_start_time": "2021-10-20T16:12:26.001783Z",
              "execution_finish_time": "2021-10-20T16:12:27.8148649Z"
            },
            "text/plain": "StatementMeta(medium1, 11, 13, Finished, Available)"
          },
          "metadata": {}
        }
      ],
      "execution_count": 23,
      "metadata": {
        "jupyter": {
          "source_hidden": false,
          "outputs_hidden": false
        },
        "nteract": {
          "transient": {
            "deleting": false
          }
        }
      }
    },
    {
      "cell_type": "markdown",
      "source": [
        "### Load to Spark DB"
      ],
      "metadata": {
        "nteract": {
          "transient": {
            "deleting": false
          }
        }
      }
    },
    {
      "cell_type": "code",
      "source": [
        "# Create spark db to allow for access to the data in the delta-lake via SQL on-demand.\r\n",
        "# This is only creating metadata for SQL on-demand, pointing to the data in the delta-lake.\r\n",
        "# This also makes it possible to connect in Power BI via the azure sql data source connector.\r\n",
        "def create_spark_db(db_name, source_path):\r\n",
        "    spark.sql(f'CREATE DATABASE IF NOT EXISTS {db_name}')\r\n",
        "    spark.sql(f\"DROP TABLE IF EXISTS {db_name}.devices\")\r\n",
        "    spark.sql(f\"create table if not exists {db_name}.devices using PARQUET location '{source_path}'\")\r\n",
        "    \r\n",
        "create_spark_db('s2p_intune_module', stage2p + '/intune_module/devices')"
      ],
      "outputs": [
        {
          "output_type": "display_data",
          "data": {
            "application/vnd.livy.statement-meta+json": {
              "spark_pool": "medium1",
              "session_id": 11,
              "statement_id": 14,
              "state": "finished",
              "livy_statement_state": "available",
              "queued_time": "2021-10-20T16:12:30.8555304Z",
              "session_start_time": null,
              "execution_start_time": "2021-10-20T16:12:30.9415296Z",
              "execution_finish_time": "2021-10-20T16:12:41.4119997Z"
            },
            "text/plain": "StatementMeta(medium1, 11, 14, Finished, Available)"
          },
          "metadata": {}
        }
      ],
      "execution_count": 24,
      "metadata": {
        "jupyter": {
          "source_hidden": false,
          "outputs_hidden": false
        },
        "nteract": {
          "transient": {
            "deleting": false
          }
        }
      }
    },
    {
      "cell_type": "markdown",
      "source": [
        "## Reset Data Processing"
      ],
      "metadata": {
        "nteract": {
          "transient": {
            "deleting": false
          }
        }
      }
    },
    {
      "cell_type": "code",
      "source": [
        "# Uncomment line 7 if you would like to walk through the process again from the beginning\r\n",
        "def reset_all_processing():\r\n",
        "    oea.rm_if_exists(stage2np + '/intune_module/devices')\r\n",
        "    oea.rm_if_exists(stage2p + '/intune_module/devices')\r\n",
        "    oea.drop_db('s2p_intune_module')\r\n",
        "\r\n",
        "#reset_all_processing()"
      ],
      "outputs": [],
      "execution_count": null,
      "metadata": {
        "jupyter": {
          "source_hidden": false,
          "outputs_hidden": false
        },
        "nteract": {
          "transient": {
            "deleting": false
          }
        }
      }
    }
  ],
  "metadata": {
    "kernelspec": {
      "name": "synapse_pyspark",
      "language": "Python",
      "display_name": "Synapse PySpark"
    },
    "language_info": {
      "name": "python"
    },
    "kernel_info": {
      "name": "synapse_pyspark"
    },
    "save_output": true,
    "synapse_widget": {
      "version": "0.1",
      "state": {
        "13e1c7fd-9eea-4fd1-9447-54bf8f1853dc": {
          "type": "Synapse.DataFrame",
          "sync_state": {
            "table": {
              "rows": [
                {
                  "0": "DESKTOP-M5HCKFC",
                  "1": "Intune",
                  "2": "Corporate",
                  "3": "Compliant",
                  "4": "Windows",
                  "5": "10.0.21692.1000",
                  "6": "2021-06-01 14:19:07.1733099",
                  "7": "debrasmith1@contosoisd3.onmicrosoft.com",
                  "8": "8feeb0b7-7e88-4ca2-9a12-9a79b604010e"
                },
                {
                  "0": "DESKTOP-KQOEDOR",
                  "1": "Intune",
                  "2": "Corporate",
                  "3": "Compliant",
                  "4": "macOS",
                  "5": "10.0.22000.100",
                  "6": "2021-08-05 18:09:59.1314562",
                  "7": "brianmcdonald86@contosoisd3.onmicrosoft.com",
                  "8": "5662e819-1ade-4de8-b013-155e8a9a2f0f"
                },
                {
                  "0": "DESKTOP-O1BG8QB",
                  "1": "Intune",
                  "2": "Personal",
                  "3": "Compliant",
                  "4": "iOS/iPadOS",
                  "5": "10.0.21380.1",
                  "6": "2021-07-19 20:53:28.0081679",
                  "7": "jennifermayer2@contosoisd3.onmicrosoft.com",
                  "8": "e911c8bc-31ac-4096-926b-d15a70bd5bd9"
                },
                {
                  "0": "HARLEYH-SVEDU",
                  "1": "Intune",
                  "2": "Personal",
                  "3": "Compliant",
                  "4": "Windows",
                  "5": "10.0.21990.1",
                  "6": "2021-06-03 06:48:05.7911489",
                  "7": "melissaphelps32@contosoisd3.onmicrosoft.com",
                  "8": "5318350b-d4e6-41ca-ba0c-3656cf85ec53"
                },
                {
                  "0": "cacarras_Windows_7/22/2021_11:10 PM",
                  "1": "Intune",
                  "2": "Unknown",
                  "3": "Compliant",
                  "4": "Windows",
                  "5": "0.0.0.0",
                  "6": "2021-07-23 00:58:12.0000000",
                  "7": "abigaillong3@contosoisd3.onmicrosoft.com",
                  "8": "20a894d2-0cdb-4a46-87e9-88f371f112a9"
                },
                {
                  "0": "DESKTOP-NJNOAB6",
                  "1": "Intune",
                  "2": "Corporate",
                  "3": "Compliant",
                  "4": "iOS/iPadOS",
                  "5": "10.0.21382.1",
                  "6": "2021-05-14 10:01:08.0000000",
                  "7": "annaalvarado60@contosoisd3.onmicrosoft.com",
                  "8": "88787e75-b837-4ad7-a190-4de321eece4f"
                },
                {
                  "0": "FLUBBERGHASTED",
                  "1": "Intune",
                  "2": "Personal",
                  "3": "Compliant",
                  "4": "macOS",
                  "5": "10.0.22000.194",
                  "6": "2021-10-10 15:28:00.0000000",
                  "7": "josephkelley4@contosoisd3.onmicrosoft.com",
                  "8": "5267644d-7869-4a29-b340-76695311129b"
                },
                {
                  "0": "adbr_Windows_10/1/2021_11:16 PM",
                  "1": "Intune",
                  "2": "Unknown",
                  "3": "Not Evaluated",
                  "4": "Windows",
                  "5": "0.0.0.0",
                  "6": "2021-10-02 00:34:02.0000000",
                  "7": "justincooper74@contosoisd3.onmicrosoft.com",
                  "8": "16552338-ad38-49bf-be03-61cc545360e1"
                },
                {
                  "0": "BEAU-LNVO-N23",
                  "1": "Intune",
                  "2": "Corporate",
                  "3": "Compliant",
                  "4": "iOS/iPadOS",
                  "5": "10.0.22000.65",
                  "6": "2021-07-12 20:06:52.0000000",
                  "7": "amberbuchanan5@contosoisd3.onmicrosoft.com",
                  "8": "4dc2feb4-79ba-4d15-a3ad-8c7efdacbc8b"
                },
                {
                  "0": "TapValidation_Windows_9/21/2021_6:07 PM",
                  "1": "Intune",
                  "2": "Unknown",
                  "3": "Compliant",
                  "4": "Windows",
                  "5": "0.0.0.0",
                  "6": "2021-09-21 18:07:48.0000000",
                  "7": "veronicacastro87@contosoisd3.onmicrosoft.com",
                  "8": "5c21ded0-959c-49a1-bed2-263f25ef1f30"
                }
              ],
              "schema": [
                {
                  "key": "0",
                  "name": "DeviceName",
                  "type": "string"
                },
                {
                  "key": "1",
                  "name": "ManagedBy",
                  "type": "string"
                },
                {
                  "key": "2",
                  "name": "Ownership",
                  "type": "string"
                },
                {
                  "key": "3",
                  "name": "Compliance",
                  "type": "string"
                },
                {
                  "key": "4",
                  "name": "OS",
                  "type": "string"
                },
                {
                  "key": "5",
                  "name": "OSVersion",
                  "type": "string"
                },
                {
                  "key": "6",
                  "name": "LastCheckIn",
                  "type": "string"
                },
                {
                  "key": "7",
                  "name": "PrimaryUserUPN",
                  "type": "string"
                },
                {
                  "key": "8",
                  "name": "DeviceID",
                  "type": "string"
                }
              ]
            },
            "isSummary": false,
            "language": "scala"
          },
          "persist_state": {
            "view": {
              "type": "details",
              "tableOptions": {},
              "chartOptions": {
                "chartType": "bar",
                "aggregationType": "count",
                "categoryFieldKeys": [
                  "0"
                ],
                "seriesFieldKeys": [
                  "0"
                ],
                "isStacked": false
              }
            }
          }
        },
        "87cfeedb-db14-4da8-9215-709d4560fc0d": {
          "type": "Synapse.DataFrame",
          "sync_state": {
            "table": {
              "rows": [
                {
                  "0": "DESKTOP-M5HCKFC",
                  "1": "Intune",
                  "2": "Corporate",
                  "3": "Compliant",
                  "4": "Windows",
                  "5": "10.0.21692.1000",
                  "6": "2021-06-01 14:19:07.1733099",
                  "7": "debrasmith1@contosoisd3.onmicrosoft.com",
                  "8": "8feeb0b7-7e88-4ca2-9a12-9a79b604010e",
                  "9": "2021-06-01",
                  "10": "false"
                },
                {
                  "0": "DESKTOP-KQOEDOR",
                  "1": "Intune",
                  "2": "Corporate",
                  "3": "Compliant",
                  "4": "macOS",
                  "5": "10.0.22000.100",
                  "6": "2021-08-05 18:09:59.1314562",
                  "7": "brianmcdonald86@contosoisd3.onmicrosoft.com",
                  "8": "5662e819-1ade-4de8-b013-155e8a9a2f0f",
                  "9": "2021-08-05",
                  "10": "true"
                },
                {
                  "0": "DESKTOP-O1BG8QB",
                  "1": "Intune",
                  "2": "Personal",
                  "3": "Compliant",
                  "4": "iOS/iPadOS",
                  "5": "10.0.21380.1",
                  "6": "2021-07-19 20:53:28.0081679",
                  "7": "jennifermayer2@contosoisd3.onmicrosoft.com",
                  "8": "e911c8bc-31ac-4096-926b-d15a70bd5bd9",
                  "9": "2021-07-19",
                  "10": "true"
                },
                {
                  "0": "HARLEYH-SVEDU",
                  "1": "Intune",
                  "2": "Personal",
                  "3": "Compliant",
                  "4": "Windows",
                  "5": "10.0.21990.1",
                  "6": "2021-06-03 06:48:05.7911489",
                  "7": "melissaphelps32@contosoisd3.onmicrosoft.com",
                  "8": "5318350b-d4e6-41ca-ba0c-3656cf85ec53",
                  "9": "2021-06-03",
                  "10": "true"
                },
                {
                  "0": "cacarras_Windows_7/22/2021_11:10 PM",
                  "1": "Intune",
                  "2": "Unknown",
                  "3": "Compliant",
                  "4": "Windows",
                  "5": "0.0.0.0",
                  "6": "2021-07-23 00:58:12.0000000",
                  "7": "abigaillong3@contosoisd3.onmicrosoft.com",
                  "8": "20a894d2-0cdb-4a46-87e9-88f371f112a9",
                  "9": "2021-07-23",
                  "10": "true"
                },
                {
                  "0": "DESKTOP-NJNOAB6",
                  "1": "Intune",
                  "2": "Corporate",
                  "3": "Compliant",
                  "4": "iOS/iPadOS",
                  "5": "10.0.21382.1",
                  "6": "2021-05-14 10:01:08.0000000",
                  "7": "annaalvarado60@contosoisd3.onmicrosoft.com",
                  "8": "88787e75-b837-4ad7-a190-4de321eece4f",
                  "9": "2021-05-14",
                  "10": "false"
                },
                {
                  "0": "FLUBBERGHASTED",
                  "1": "Intune",
                  "2": "Personal",
                  "3": "Compliant",
                  "4": "macOS",
                  "5": "10.0.22000.194",
                  "6": "2021-10-10 15:28:00.0000000",
                  "7": "josephkelley4@contosoisd3.onmicrosoft.com",
                  "8": "5267644d-7869-4a29-b340-76695311129b",
                  "9": "2021-10-10",
                  "10": "true"
                },
                {
                  "0": "adbr_Windows_10/1/2021_11:16 PM",
                  "1": "Intune",
                  "2": "Unknown",
                  "3": "Not Evaluated",
                  "4": "Windows",
                  "5": "0.0.0.0",
                  "6": "2021-10-02 00:34:02.0000000",
                  "7": "justincooper74@contosoisd3.onmicrosoft.com",
                  "8": "16552338-ad38-49bf-be03-61cc545360e1",
                  "9": "2021-10-02",
                  "10": "true"
                },
                {
                  "0": "BEAU-LNVO-N23",
                  "1": "Intune",
                  "2": "Corporate",
                  "3": "Compliant",
                  "4": "iOS/iPadOS",
                  "5": "10.0.22000.65",
                  "6": "2021-07-12 20:06:52.0000000",
                  "7": "amberbuchanan5@contosoisd3.onmicrosoft.com",
                  "8": "4dc2feb4-79ba-4d15-a3ad-8c7efdacbc8b",
                  "9": "2021-07-12",
                  "10": "true"
                },
                {
                  "0": "TapValidation_Windows_9/21/2021_6:07 PM",
                  "1": "Intune",
                  "2": "Unknown",
                  "3": "Compliant",
                  "4": "Windows",
                  "5": "0.0.0.0",
                  "6": "2021-09-21 18:07:48.0000000",
                  "7": "veronicacastro87@contosoisd3.onmicrosoft.com",
                  "8": "5c21ded0-959c-49a1-bed2-263f25ef1f30",
                  "9": "2021-09-21",
                  "10": "true"
                }
              ],
              "schema": [
                {
                  "key": "0",
                  "name": "DeviceName",
                  "type": "string"
                },
                {
                  "key": "1",
                  "name": "ManagedBy",
                  "type": "string"
                },
                {
                  "key": "2",
                  "name": "Ownership",
                  "type": "string"
                },
                {
                  "key": "3",
                  "name": "Compliance",
                  "type": "string"
                },
                {
                  "key": "4",
                  "name": "OS",
                  "type": "string"
                },
                {
                  "key": "5",
                  "name": "OSVersion",
                  "type": "string"
                },
                {
                  "key": "6",
                  "name": "LastCheckIn",
                  "type": "string"
                },
                {
                  "key": "7",
                  "name": "PrimaryUserUPN",
                  "type": "string"
                },
                {
                  "key": "8",
                  "name": "DeviceID",
                  "type": "string"
                },
                {
                  "key": "9",
                  "name": "lastCheckInDate",
                  "type": "date"
                },
                {
                  "key": "10",
                  "name": "AccessOutsideOfSchool",
                  "type": "string"
                }
              ]
            },
            "isSummary": false,
            "language": "scala"
          },
          "persist_state": {
            "view": {
              "type": "details",
              "tableOptions": {},
              "chartOptions": {
                "chartType": "bar",
                "aggregationType": "count",
                "categoryFieldKeys": [
                  "0"
                ],
                "seriesFieldKeys": [
                  "0"
                ],
                "isStacked": false
              }
            }
          }
        }
      }
    }
  },
  "nbformat": 4,
  "nbformat_minor": 2
}