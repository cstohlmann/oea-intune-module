{
  "cells": [
    {
      "cell_type": "markdown",
      "source": [
        "# Intune Module Setup Example Notebook\r\n",
        "\r\n",
        "This notebook creates 1 table (devices) into a new Spark database called s2p_intune_module. "
      ],
      "metadata": {
        "nteract": {
          "transient": {
            "deleting": false
          }
        }
      }
    },
    {
      "cell_type": "markdown",
      "source": [
        "### Provision storage accounts\r\n",
        "\r\n",
        "The storage account variable has to be changed to the name of the storage account associated with your Azure resource group."
      ],
      "metadata": {
        "nteract": {
          "transient": {
            "deleting": false
          }
        }
      }
    },
    {
      "cell_type": "code",
      "source": [
        "from pyspark.sql.types import StructType, StructField, StringType, IntegerType, DoubleType, ArrayType, TimestampType\r\n",
        "from pyspark.sql.functions import *\r\n",
        "from pyspark.sql.window import Window\r\n",
        "\r\n",
        "\r\n",
        "# data lake and container information\r\n",
        "storage_account = 'stoeadaihackathon'\r\n",
        "use_test_env = False\r\n",
        "\r\n",
        "if use_test_env:\r\n",
        "    stage1np = 'abfss://test-env@' + storage_account + '.dfs.core.windows.net/stage1np'\r\n",
        "    stage2np = 'abfss://test-env@' + storage_account + '.dfs.core.windows.net/stage2np'\r\n",
        "    stage2p = 'abfss://test-env@' + storage_account + '.dfs.core.windows.net/stage2p'\r\n",
        "else:\r\n",
        "    stage1np = 'abfss://stage1np@' + storage_account + '.dfs.core.windows.net'\r\n",
        "    stage2np = 'abfss://stage2np@' + storage_account + '.dfs.core.windows.net'\r\n",
        "    stage2p = 'abfss://stage2p@' + storage_account + '.dfs.core.windows.net'"
      ],
      "outputs": [
        {
          "output_type": "display_data",
          "data": {
            "application/vnd.livy.statement-meta+json": {
              "spark_pool": "medium1",
              "session_id": 7,
              "statement_id": 1,
              "state": "finished",
              "livy_statement_state": "available",
              "queued_time": "2021-10-19T15:41:43.9800187Z",
              "session_start_time": "2021-10-19T15:41:44.0154371Z",
              "execution_start_time": "2021-10-19T15:42:14.8198847Z",
              "execution_finish_time": "2021-10-19T15:42:14.9656963Z"
            },
            "text/plain": "StatementMeta(medium1, 7, 1, Finished, Available)"
          },
          "metadata": {}
        }
      ],
      "execution_count": 1,
      "metadata": {
        "jupyter": {
          "source_hidden": false,
          "outputs_hidden": false
        },
        "nteract": {
          "transient": {
            "deleting": false
          }
        }
      }
    },
    {
      "cell_type": "markdown",
      "source": [
        "### Load Raw Data from Lake\r\n",
        "To ensure that that the right tables are loaded, confirm that the file paths match your data lake storage containers. \r\n",
        "\r\n",
        "The top code-block defines the schema of how the devices CSV file in stage 1 is stored."
      ],
      "metadata": {
        "nteract": {
          "transient": {
            "deleting": false
          }
        }
      }
    },
    {
      "cell_type": "code",
      "source": [
        "# load needed device table from the CSV in the data lake storage\r\n",
        "dfIntuneDevices = spark.read.format('csv').load(f'{stage1np}/intune_module/devices/*.csv', header='true')"
      ],
      "outputs": [
        {
          "output_type": "display_data",
          "data": {
            "application/vnd.livy.statement-meta+json": {
              "spark_pool": "medium1",
              "session_id": 7,
              "statement_id": 2,
              "state": "finished",
              "livy_statement_state": "available",
              "queued_time": "2021-10-19T15:42:03.9555378Z",
              "session_start_time": null,
              "execution_start_time": "2021-10-19T15:42:15.0510516Z",
              "execution_finish_time": "2021-10-19T15:42:25.902986Z"
            },
            "text/plain": "StatementMeta(medium1, 7, 2, Finished, Available)"
          },
          "metadata": {}
        }
      ],
      "execution_count": 2,
      "metadata": {
        "jupyter": {
          "source_hidden": false,
          "outputs_hidden": false
        },
        "nteract": {
          "transient": {
            "deleting": false
          }
        }
      }
    },
    {
      "cell_type": "markdown",
      "source": [
        "## 1. Devices table\r\n",
        "Contains all devices (from students and teachers) at a school-system level\r\n",
        "\r\n",
        "** Databases and tables used: **\r\n",
        "\r\n",
        " - None\r\n",
        "\r\n",
        "**CSV files used:**\r\n",
        "\r\n",
        "- the file from: intune_module/devices/*.csv\r\n",
        "\r\n",
        "**Database and table created:**\r\n",
        "\r\n",
        "1. Spark DB: s2p_intune_module\r\n",
        "- Table: devices"
      ],
      "metadata": {
        "nteract": {
          "transient": {
            "deleting": false
          }
        }
      }
    },
    {
      "cell_type": "code",
      "source": [
        "display(dfIntuneDevices.limit(10))"
      ],
      "outputs": [
        {
          "output_type": "display_data",
          "data": {
            "application/vnd.livy.statement-meta+json": {
              "spark_pool": "medium1",
              "session_id": 7,
              "statement_id": 3,
              "state": "finished",
              "livy_statement_state": "available",
              "queued_time": "2021-10-19T15:43:09.4636735Z",
              "session_start_time": null,
              "execution_start_time": "2021-10-19T15:43:09.5597217Z",
              "execution_finish_time": "2021-10-19T15:43:11.3486427Z"
            },
            "text/plain": "StatementMeta(medium1, 7, 3, Finished, Available)"
          },
          "metadata": {}
        },
        {
          "output_type": "display_data",
          "data": {
            "application/vnd.synapse.widget-view+json": {
              "widget_id": "0fd3e91c-73ee-4543-8ff9-6a3dcfbe34ce",
              "widget_type": "Synapse.DataFrame"
            },
            "text/plain": "SynapseWidget(Synapse.DataFrame, 0fd3e91c-73ee-4543-8ff9-6a3dcfbe34ce)"
          },
          "metadata": {}
        }
      ],
      "execution_count": 3,
      "metadata": {
        "jupyter": {
          "source_hidden": false,
          "outputs_hidden": false
        },
        "nteract": {
          "transient": {
            "deleting": false
          }
        },
        "collapsed": false
      }
    },
    {
      "cell_type": "markdown",
      "source": [
        "### Add an additional column \"accessOutsideOfSchool\"\r\n",
        "\r\n",
        "This \"accessOutsideOfSchool\" column uses the \"lastCheckIn\" column information to determine if a specific student's device has access outside of school, based on the conditions:\r\n",
        "\r\n",
        " - If the last check in was on a weekend (i.e. Saturday or Sunday), then \"accessOutsideOfSchool\" is true.\r\n",
        " - If the last check in was before 9 AM (9:00) on a weekday, then \"accessOutsideOfSchool\" is true.\r\n",
        " - If the last check in was after 4 PM (16:00) on a weekday, then \"accessOutsideOfSchool\" is true. \r\n",
        "\r\n",
        "Otherwise, \"accessOutsideOfSchool\" is defaulted to false. "
      ],
      "metadata": {
        "nteract": {
          "transient": {
            "deleting": false
          }
        }
      }
    },
    {
      "cell_type": "code",
      "source": [
        "dfIntuneDevices = dfIntuneDevices.withColumn('lastCheckInTime', split(col('lastCheckIn'), ' ').getItem(1))\r\n",
        "dfIntuneDevices = dfIntuneDevices.withColumn('lastCheckInHourOfDay', split(col('lastCheckInTime'), ':').getItem(0))\r\n",
        "dfIntuneDevices = dfIntuneDevices.drop('lastCheckInTime')\r\n",
        "\r\n",
        "dfIntuneDevices = dfIntuneDevices.withColumn('lastCheckInDayOfWeek', date_format(col('lastCheckIn'), \"E\"))\r\n",
        "\r\n",
        "dfIntuneDevices = dfIntuneDevices.withColumn('AccessOutsideOfSchool', when(col('lastCheckInDayOfWeek') == \"Sat\", \"true\").otherwise(when(col('lastCheckInDayOfWeek') == \"Sun\", \"true\").otherwise(when(col('lastCheckInHourOfDay') >= 16, \"true\").otherwise(when(col('lastCheckInHourOfDay') < 9, \"true\").otherwise(\"false\")))))\r\n",
        "# Can comment out this drop if you don't want to drop these two columns\r\n",
        "dfIntuneDevices = dfIntuneDevices.drop('lastCheckInDayOfWeek').drop('lastCheckInHourOfDay')\r\n",
        "\r\n",
        "display(dfIntuneDevices.limit(10))"
      ],
      "outputs": [
        {
          "output_type": "display_data",
          "data": {
            "application/vnd.livy.statement-meta+json": {
              "spark_pool": "medium1",
              "session_id": 7,
              "statement_id": 18,
              "state": "finished",
              "livy_statement_state": "available",
              "queued_time": "2021-10-19T15:54:34.91614Z",
              "session_start_time": null,
              "execution_start_time": "2021-10-19T15:54:35.0171407Z",
              "execution_finish_time": "2021-10-19T15:54:36.0742489Z"
            },
            "text/plain": "StatementMeta(medium1, 7, 18, Finished, Available)"
          },
          "metadata": {}
        },
        {
          "output_type": "display_data",
          "data": {
            "application/vnd.synapse.widget-view+json": {
              "widget_id": "26a06c19-36fe-4dba-b35a-ea482711c51c",
              "widget_type": "Synapse.DataFrame"
            },
            "text/plain": "SynapseWidget(Synapse.DataFrame, 26a06c19-36fe-4dba-b35a-ea482711c51c)"
          },
          "metadata": {}
        }
      ],
      "execution_count": 18,
      "metadata": {
        "jupyter": {
          "source_hidden": false,
          "outputs_hidden": false
        },
        "nteract": {
          "transient": {
            "deleting": false
          }
        },
        "collapsed": false
      }
    },
    {
      "cell_type": "markdown",
      "source": [
        "## Write Data Back to Lake\r\n",
        "\r\n",
        "### Writing to Stage 2np"
      ],
      "metadata": {
        "nteract": {
          "transient": {
            "deleting": false
          }
        }
      }
    },
    {
      "cell_type": "code",
      "source": [
        "# write back to the lake in stage 2 ds2_main directory\r\n",
        "dfIntuneDevices.coalesce(1).write.format('parquet').mode('overwrite').save(stage2np + '/intune_module/devices')"
      ],
      "outputs": [
        {
          "output_type": "display_data",
          "data": {
            "application/vnd.livy.statement-meta+json": {
              "spark_pool": "medium1",
              "session_id": 7,
              "statement_id": 19,
              "state": "finished",
              "livy_statement_state": "available",
              "queued_time": "2021-10-19T15:55:47.0783912Z",
              "session_start_time": null,
              "execution_start_time": "2021-10-19T15:55:47.1681551Z",
              "execution_finish_time": "2021-10-19T15:55:48.2203036Z"
            },
            "text/plain": "StatementMeta(medium1, 7, 19, Finished, Available)"
          },
          "metadata": {}
        }
      ],
      "execution_count": 19,
      "metadata": {
        "jupyter": {
          "source_hidden": false,
          "outputs_hidden": false
        },
        "nteract": {
          "transient": {
            "deleting": false
          }
        }
      }
    },
    {
      "cell_type": "markdown",
      "source": [
        "### Writing to Stage 2p\r\n",
        "Pseudonymizing the primaryUserUPNs (userPrincipalNames) data from the devices CSV."
      ],
      "metadata": {
        "nteract": {
          "transient": {
            "deleting": false
          }
        }
      }
    },
    {
      "cell_type": "code",
      "source": [
        "%run /OEA_py"
      ],
      "outputs": [
        {
          "output_type": "display_data",
          "data": {
            "application/vnd.livy.statement-meta+json": {
              "spark_pool": null,
              "session_id": 7,
              "statement_id": -1,
              "state": "finished",
              "livy_statement_state": "available",
              "queued_time": "2021-10-19T15:55:49.0952753Z",
              "session_start_time": null,
              "execution_start_time": "2021-10-19T15:55:49.503854Z",
              "execution_finish_time": "2021-10-19T15:55:49.5040317Z"
            },
            "text/plain": "StatementMeta(, 7, -1, Finished, Available)"
          },
          "metadata": {}
        }
      ],
      "execution_count": 20,
      "metadata": {
        "jupyter": {
          "source_hidden": false,
          "outputs_hidden": false
        },
        "nteract": {
          "transient": {
            "deleting": false
          }
        }
      }
    },
    {
      "cell_type": "code",
      "source": [
        "oea = OEA()"
      ],
      "outputs": [
        {
          "output_type": "display_data",
          "data": {
            "application/vnd.livy.statement-meta+json": {
              "spark_pool": "medium1",
              "session_id": 7,
              "statement_id": 21,
              "state": "finished",
              "livy_statement_state": "available",
              "queued_time": "2021-10-19T15:55:51.0936789Z",
              "session_start_time": null,
              "execution_start_time": "2021-10-19T15:55:51.1753916Z",
              "execution_finish_time": "2021-10-19T15:55:51.3320817Z"
            },
            "text/plain": "StatementMeta(medium1, 7, 21, Finished, Available)"
          },
          "metadata": {}
        },
        {
          "output_type": "stream",
          "name": "stdout",
          "text": [
            "2021-10-19 15:55:51,160 - OEA - DEBUG - OEA initialized.\nOEA initialized."
          ]
        }
      ],
      "execution_count": 21,
      "metadata": {
        "jupyter": {
          "source_hidden": false,
          "outputs_hidden": false
        },
        "nteract": {
          "transient": {
            "deleting": false
          }
        }
      }
    },
    {
      "cell_type": "code",
      "source": [
        "devicesSchema = [['DeviceName', 'string', 'no-op'],\r\n",
        "                            ['ManagedBy', 'string', 'no-op'],\r\n",
        "                            ['Ownership', 'string', 'no-op'],\r\n",
        "                            ['Compliance','string','no-op'],\r\n",
        "                            ['OS', 'string', 'no-op'],\r\n",
        "                            ['OSVersion', 'string', 'no-op'],\r\n",
        "                            ['LastCheckIn', 'timestamp', 'no-op'],\r\n",
        "                            ['PrimaryUserUPN', 'string', 'hash'],\r\n",
        "                            ['DeviceID', 'string', 'no-op'],\r\n",
        "                            ['AccessOutsideOfSchool', 'boolean', 'no-op']]\r\n",
        "\r\n",
        "df_pseudo, df_lookup = oea.pseudonymize(dfIntuneDevices, devicesSchema)\r\n",
        "\r\n",
        "df_pseudo.coalesce(1).write.format('parquet').mode('overwrite').save(stage2p + '/intune_module/devices')"
      ],
      "outputs": [
        {
          "output_type": "display_data",
          "data": {
            "application/vnd.livy.statement-meta+json": {
              "spark_pool": "medium1",
              "session_id": 7,
              "statement_id": 22,
              "state": "finished",
              "livy_statement_state": "available",
              "queued_time": "2021-10-19T15:55:53.9245199Z",
              "session_start_time": null,
              "execution_start_time": "2021-10-19T15:55:54.0018317Z",
              "execution_finish_time": "2021-10-19T15:55:55.7791194Z"
            },
            "text/plain": "StatementMeta(medium1, 7, 22, Finished, Available)"
          },
          "metadata": {}
        }
      ],
      "execution_count": 22,
      "metadata": {
        "jupyter": {
          "source_hidden": false,
          "outputs_hidden": false
        },
        "nteract": {
          "transient": {
            "deleting": false
          }
        }
      }
    },
    {
      "cell_type": "markdown",
      "source": [
        "### Load to Spark DB"
      ],
      "metadata": {
        "nteract": {
          "transient": {
            "deleting": false
          }
        }
      }
    },
    {
      "cell_type": "code",
      "source": [
        "# Create spark db to allow for access to the data in the delta-lake via SQL on-demand.\r\n",
        "# This is only creating metadata for SQL on-demand, pointing to the data in the delta-lake.\r\n",
        "# This also makes it possible to connect in Power BI via the azure sql data source connector.\r\n",
        "def create_spark_db(db_name, source_path):\r\n",
        "    spark.sql(f'CREATE DATABASE IF NOT EXISTS {db_name}')\r\n",
        "    spark.sql(f\"DROP TABLE IF EXISTS {db_name}.devices\")\r\n",
        "    spark.sql(f\"create table if not exists {db_name}.devices using PARQUET location '{source_path}'\")\r\n",
        "    \r\n",
        "create_spark_db('s2p_intune_module', stage2p + '/intune_module/devices')"
      ],
      "outputs": [
        {
          "output_type": "display_data",
          "data": {
            "application/vnd.livy.statement-meta+json": {
              "spark_pool": "medium1",
              "session_id": 7,
              "statement_id": 23,
              "state": "finished",
              "livy_statement_state": "available",
              "queued_time": "2021-10-19T15:55:56.0416864Z",
              "session_start_time": null,
              "execution_start_time": "2021-10-19T15:55:56.1306011Z",
              "execution_finish_time": "2021-10-19T15:56:00.0359123Z"
            },
            "text/plain": "StatementMeta(medium1, 7, 23, Finished, Available)"
          },
          "metadata": {}
        }
      ],
      "execution_count": 23,
      "metadata": {
        "jupyter": {
          "source_hidden": false,
          "outputs_hidden": false
        },
        "nteract": {
          "transient": {
            "deleting": false
          }
        }
      }
    },
    {
      "cell_type": "markdown",
      "source": [
        "## Reset Data Processing"
      ],
      "metadata": {
        "nteract": {
          "transient": {
            "deleting": false
          }
        }
      }
    },
    {
      "cell_type": "code",
      "source": [
        "# Uncomment line 7 if you would like to walk through the process again from the beginning\r\n",
        "def reset_all_processing():\r\n",
        "    oea.rm_if_exists(stage2np + '/intune_module/devices')\r\n",
        "    oea.rm_if_exists(stage2p + '/intune_module/devices')\r\n",
        "    oea.drop_db('s2p_intune_module')\r\n",
        "\r\n",
        "#reset_all_processing()"
      ],
      "outputs": [],
      "execution_count": null,
      "metadata": {
        "jupyter": {
          "source_hidden": false,
          "outputs_hidden": false
        },
        "nteract": {
          "transient": {
            "deleting": false
          }
        }
      }
    }
  ],
  "metadata": {
    "language_info": {
      "name": "python"
    },
    "kernelspec": {
      "name": "synapse_pyspark",
      "language": "Python",
      "display_name": "Synapse PySpark"
    },
    "kernel_info": {
      "name": "synapse_pyspark"
    },
    "save_output": true,
    "synapse_widget": {
      "version": "0.1",
      "state": {
        "0fd3e91c-73ee-4543-8ff9-6a3dcfbe34ce": {
          "type": "Synapse.DataFrame",
          "sync_state": {
            "table": {
              "rows": [
                {
                  "0": "DESKTOP-M5HCKFC",
                  "1": "Intune",
                  "2": "School",
                  "3": "Compliant",
                  "4": "Windows",
                  "5": "10.0.21692.1000",
                  "6": "2021-06-01 14:19:07.1733099",
                  "7": "debrasmith1@contosoisd3.onmicrosoft.com",
                  "8": "8feeb0b7-7e88-4ca2-9a12-9a79b604010e"
                },
                {
                  "0": "DESKTOP-KQOEDOR",
                  "1": "Intune",
                  "2": "School",
                  "3": "Compliant",
                  "4": "iOS/iPadOS",
                  "5": "10.0.22000.100",
                  "6": "2021-08-05 18:09:59.1314562",
                  "7": "josephlynch26@contosoisd3.onmicrosoft.com",
                  "8": "5662e819-1ade-4de8-b013-155e8a9a2f0f"
                },
                {
                  "0": "DESKTOP-O1BG8QB",
                  "1": "Intune",
                  "2": "Personal",
                  "3": "Compliant",
                  "4": "Windows",
                  "5": "10.0.21380.1",
                  "6": "2021-07-19 20:53:28.0081679",
                  "7": "jennifermayer2@contosoisd3.onmicrosoft.com",
                  "8": "e911c8bc-31ac-4096-926b-d15a70bd5bd9"
                },
                {
                  "0": "HARLEYH-SVEDU",
                  "1": "Intune",
                  "2": "Personal",
                  "3": "Compliant",
                  "4": "Windows",
                  "5": "10.0.21990.1",
                  "6": "2021-06-03 06:48:05.7911489",
                  "7": "williamcarpenter48@contosoisd3.onmicrosoft.com",
                  "8": "5318350b-d4e6-41ca-ba0c-3656cf85ec53"
                },
                {
                  "0": "cacarras_Windows_7/22/2021_11:10 PM",
                  "1": "Intune",
                  "2": "Unknown",
                  "3": "Compliant",
                  "4": "macOS",
                  "5": "0.0.0.0",
                  "6": "2021-07-23 00:58:12.0000000",
                  "7": "abigaillong3@contosoisd3.onmicrosoft.com",
                  "8": "20a894d2-0cdb-4a46-87e9-88f371f112a9"
                },
                {
                  "0": "DESKTOP-NJNOAB6",
                  "1": "Intune",
                  "2": "School",
                  "3": "Compliant",
                  "4": "macOS",
                  "5": "10.0.21382.1",
                  "6": "2021-05-14 10:01:08.0000000",
                  "7": "lisaalexander51@contosoisd3.onmicrosoft.com",
                  "8": "88787e75-b837-4ad7-a190-4de321eece4f"
                },
                {
                  "0": "FLUBBERGHASTED",
                  "1": "Intune",
                  "2": "Personal",
                  "3": "Compliant",
                  "4": "macOS",
                  "5": "10.0.22000.194",
                  "6": "2021-10-10 15:28:00.0000000",
                  "7": "josephkelley4@contosoisd3.onmicrosoft.com",
                  "8": "5267644d-7869-4a29-b340-76695311129b"
                },
                {
                  "0": "adbr_Windows_10/1/2021_11:16 PM",
                  "1": "Intune",
                  "2": "Unknown",
                  "3": "Not Evaluated",
                  "4": "macOS",
                  "5": "0.0.0.0",
                  "6": "2021-10-02 00:34:02.0000000",
                  "7": "zacharyjohnson64@contosoisd3.onmicrosoft.com",
                  "8": "16552338-ad38-49bf-be03-61cc545360e1"
                },
                {
                  "0": "BEAU-LNVO-N23",
                  "1": "Intune",
                  "2": "School",
                  "3": "Compliant",
                  "4": "Windows",
                  "5": "10.0.22000.65",
                  "6": "2021-07-12 20:06:52.0000000",
                  "7": "amberbuchanan5@contosoisd3.onmicrosoft.com",
                  "8": "4dc2feb4-79ba-4d15-a3ad-8c7efdacbc8b"
                },
                {
                  "0": "TapValidation_Windows_9/21/2021_6:07 PM",
                  "1": "Intune",
                  "2": "Unknown",
                  "3": "Compliant",
                  "4": "Windows",
                  "5": "0.0.0.0",
                  "6": "2021-09-21 18:07:48.0000000",
                  "7": "chadjones8@contosoisd3.onmicrosoft.com",
                  "8": "5c21ded0-959c-49a1-bed2-263f25ef1f30"
                }
              ],
              "schema": [
                {
                  "key": "0",
                  "name": "DeviceName",
                  "type": "string"
                },
                {
                  "key": "1",
                  "name": "ManagedBy",
                  "type": "string"
                },
                {
                  "key": "2",
                  "name": "Ownership",
                  "type": "string"
                },
                {
                  "key": "3",
                  "name": "Compliance",
                  "type": "string"
                },
                {
                  "key": "4",
                  "name": "OS",
                  "type": "string"
                },
                {
                  "key": "5",
                  "name": "OSVersion",
                  "type": "string"
                },
                {
                  "key": "6",
                  "name": "LastCheckIn",
                  "type": "string"
                },
                {
                  "key": "7",
                  "name": "PrimaryUserUPN",
                  "type": "string"
                },
                {
                  "key": "8",
                  "name": "DeviceID",
                  "type": "string"
                }
              ]
            },
            "isSummary": false,
            "language": "scala"
          },
          "persist_state": {
            "view": {
              "type": "details",
              "tableOptions": {},
              "chartOptions": {
                "chartType": "bar",
                "aggregationType": "count",
                "categoryFieldKeys": [
                  "0"
                ],
                "seriesFieldKeys": [
                  "0"
                ],
                "isStacked": false
              }
            }
          }
        },
        "26a06c19-36fe-4dba-b35a-ea482711c51c": {
          "type": "Synapse.DataFrame",
          "sync_state": {
            "table": {
              "rows": [
                {
                  "0": "DESKTOP-M5HCKFC",
                  "1": "Intune",
                  "2": "School",
                  "3": "Compliant",
                  "4": "Windows",
                  "5": "10.0.21692.1000",
                  "6": "2021-06-01 14:19:07.1733099",
                  "7": "debrasmith1@contosoisd3.onmicrosoft.com",
                  "8": "8feeb0b7-7e88-4ca2-9a12-9a79b604010e",
                  "9": "false"
                },
                {
                  "0": "DESKTOP-KQOEDOR",
                  "1": "Intune",
                  "2": "School",
                  "3": "Compliant",
                  "4": "iOS/iPadOS",
                  "5": "10.0.22000.100",
                  "6": "2021-08-05 18:09:59.1314562",
                  "7": "josephlynch26@contosoisd3.onmicrosoft.com",
                  "8": "5662e819-1ade-4de8-b013-155e8a9a2f0f",
                  "9": "true"
                },
                {
                  "0": "DESKTOP-O1BG8QB",
                  "1": "Intune",
                  "2": "Personal",
                  "3": "Compliant",
                  "4": "Windows",
                  "5": "10.0.21380.1",
                  "6": "2021-07-19 20:53:28.0081679",
                  "7": "jennifermayer2@contosoisd3.onmicrosoft.com",
                  "8": "e911c8bc-31ac-4096-926b-d15a70bd5bd9",
                  "9": "true"
                },
                {
                  "0": "HARLEYH-SVEDU",
                  "1": "Intune",
                  "2": "Personal",
                  "3": "Compliant",
                  "4": "Windows",
                  "5": "10.0.21990.1",
                  "6": "2021-06-03 06:48:05.7911489",
                  "7": "williamcarpenter48@contosoisd3.onmicrosoft.com",
                  "8": "5318350b-d4e6-41ca-ba0c-3656cf85ec53",
                  "9": "true"
                },
                {
                  "0": "cacarras_Windows_7/22/2021_11:10 PM",
                  "1": "Intune",
                  "2": "Unknown",
                  "3": "Compliant",
                  "4": "macOS",
                  "5": "0.0.0.0",
                  "6": "2021-07-23 00:58:12.0000000",
                  "7": "abigaillong3@contosoisd3.onmicrosoft.com",
                  "8": "20a894d2-0cdb-4a46-87e9-88f371f112a9",
                  "9": "true"
                },
                {
                  "0": "DESKTOP-NJNOAB6",
                  "1": "Intune",
                  "2": "School",
                  "3": "Compliant",
                  "4": "macOS",
                  "5": "10.0.21382.1",
                  "6": "2021-05-14 10:01:08.0000000",
                  "7": "lisaalexander51@contosoisd3.onmicrosoft.com",
                  "8": "88787e75-b837-4ad7-a190-4de321eece4f",
                  "9": "false"
                },
                {
                  "0": "FLUBBERGHASTED",
                  "1": "Intune",
                  "2": "Personal",
                  "3": "Compliant",
                  "4": "macOS",
                  "5": "10.0.22000.194",
                  "6": "2021-10-10 15:28:00.0000000",
                  "7": "josephkelley4@contosoisd3.onmicrosoft.com",
                  "8": "5267644d-7869-4a29-b340-76695311129b",
                  "9": "true"
                },
                {
                  "0": "adbr_Windows_10/1/2021_11:16 PM",
                  "1": "Intune",
                  "2": "Unknown",
                  "3": "Not Evaluated",
                  "4": "macOS",
                  "5": "0.0.0.0",
                  "6": "2021-10-02 00:34:02.0000000",
                  "7": "zacharyjohnson64@contosoisd3.onmicrosoft.com",
                  "8": "16552338-ad38-49bf-be03-61cc545360e1",
                  "9": "true"
                },
                {
                  "0": "BEAU-LNVO-N23",
                  "1": "Intune",
                  "2": "School",
                  "3": "Compliant",
                  "4": "Windows",
                  "5": "10.0.22000.65",
                  "6": "2021-07-12 20:06:52.0000000",
                  "7": "amberbuchanan5@contosoisd3.onmicrosoft.com",
                  "8": "4dc2feb4-79ba-4d15-a3ad-8c7efdacbc8b",
                  "9": "true"
                },
                {
                  "0": "TapValidation_Windows_9/21/2021_6:07 PM",
                  "1": "Intune",
                  "2": "Unknown",
                  "3": "Compliant",
                  "4": "Windows",
                  "5": "0.0.0.0",
                  "6": "2021-09-21 18:07:48.0000000",
                  "7": "chadjones8@contosoisd3.onmicrosoft.com",
                  "8": "5c21ded0-959c-49a1-bed2-263f25ef1f30",
                  "9": "true"
                }
              ],
              "schema": [
                {
                  "key": "0",
                  "name": "DeviceName",
                  "type": "string"
                },
                {
                  "key": "1",
                  "name": "ManagedBy",
                  "type": "string"
                },
                {
                  "key": "2",
                  "name": "Ownership",
                  "type": "string"
                },
                {
                  "key": "3",
                  "name": "Compliance",
                  "type": "string"
                },
                {
                  "key": "4",
                  "name": "OS",
                  "type": "string"
                },
                {
                  "key": "5",
                  "name": "OSVersion",
                  "type": "string"
                },
                {
                  "key": "6",
                  "name": "LastCheckIn",
                  "type": "string"
                },
                {
                  "key": "7",
                  "name": "PrimaryUserUPN",
                  "type": "string"
                },
                {
                  "key": "8",
                  "name": "DeviceID",
                  "type": "string"
                },
                {
                  "key": "9",
                  "name": "AccessOutsideOfSchool",
                  "type": "string"
                }
              ]
            },
            "isSummary": false,
            "language": "scala"
          },
          "persist_state": {
            "view": {
              "type": "details",
              "tableOptions": {},
              "chartOptions": {
                "chartType": "bar",
                "aggregationType": "count",
                "categoryFieldKeys": [
                  "0"
                ],
                "seriesFieldKeys": [
                  "0"
                ],
                "isStacked": false
              }
            }
          }
        }
      }
    }
  },
  "nbformat": 4,
  "nbformat_minor": 2
}